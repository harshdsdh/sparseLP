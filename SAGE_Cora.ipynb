{
  "nbformat": 4,
  "nbformat_minor": 0,
  "metadata": {
    "colab": {
      "provenance": [],
      "machine_shape": "hm",
      "authorship_tag": "ABX9TyP2L/vNeiRFZj0oN2aI+pec",
      "include_colab_link": true
    },
    "kernelspec": {
      "name": "python3",
      "display_name": "Python 3"
    },
    "language_info": {
      "name": "python"
    }
  },
  "cells": [
    {
      "cell_type": "markdown",
      "metadata": {
        "id": "view-in-github",
        "colab_type": "text"
      },
      "source": [
        "<a href=\"https://colab.research.google.com/github/harshdsdh/sparseLP/blob/main/SAGE_Cora.ipynb\" target=\"_parent\"><img src=\"https://colab.research.google.com/assets/colab-badge.svg\" alt=\"Open In Colab\"/></a>"
      ]
    },
    {
      "cell_type": "code",
      "source": [
        "!pip install networkx\n",
        "!pip install torch_geometric"
      ],
      "metadata": {
        "id": "QMDg-nxQxEWr",
        "colab": {
          "base_uri": "https://localhost:8080/"
        },
        "outputId": "13490933-fdf5-4681-90b6-d4fb7bca9e87"
      },
      "execution_count": 1,
      "outputs": [
        {
          "output_type": "stream",
          "name": "stdout",
          "text": [
            "Requirement already satisfied: networkx in /usr/local/lib/python3.11/dist-packages (3.4.2)\n",
            "Collecting torch_geometric\n",
            "  Downloading torch_geometric-2.6.1-py3-none-any.whl.metadata (63 kB)\n",
            "\u001b[2K     \u001b[90m━━━━━━━━━━━━━━━━━━━━━━━━━━━━━━━━━━━━━━━━\u001b[0m \u001b[32m63.1/63.1 kB\u001b[0m \u001b[31m1.7 MB/s\u001b[0m eta \u001b[36m0:00:00\u001b[0m\n",
            "\u001b[?25hRequirement already satisfied: aiohttp in /usr/local/lib/python3.11/dist-packages (from torch_geometric) (3.11.15)\n",
            "Requirement already satisfied: fsspec in /usr/local/lib/python3.11/dist-packages (from torch_geometric) (2025.3.2)\n",
            "Requirement already satisfied: jinja2 in /usr/local/lib/python3.11/dist-packages (from torch_geometric) (3.1.6)\n",
            "Requirement already satisfied: numpy in /usr/local/lib/python3.11/dist-packages (from torch_geometric) (2.0.2)\n",
            "Requirement already satisfied: psutil>=5.8.0 in /usr/local/lib/python3.11/dist-packages (from torch_geometric) (5.9.5)\n",
            "Requirement already satisfied: pyparsing in /usr/local/lib/python3.11/dist-packages (from torch_geometric) (3.2.3)\n",
            "Requirement already satisfied: requests in /usr/local/lib/python3.11/dist-packages (from torch_geometric) (2.32.3)\n",
            "Requirement already satisfied: tqdm in /usr/local/lib/python3.11/dist-packages (from torch_geometric) (4.67.1)\n",
            "Requirement already satisfied: aiohappyeyeballs>=2.3.0 in /usr/local/lib/python3.11/dist-packages (from aiohttp->torch_geometric) (2.6.1)\n",
            "Requirement already satisfied: aiosignal>=1.1.2 in /usr/local/lib/python3.11/dist-packages (from aiohttp->torch_geometric) (1.3.2)\n",
            "Requirement already satisfied: attrs>=17.3.0 in /usr/local/lib/python3.11/dist-packages (from aiohttp->torch_geometric) (25.3.0)\n",
            "Requirement already satisfied: frozenlist>=1.1.1 in /usr/local/lib/python3.11/dist-packages (from aiohttp->torch_geometric) (1.6.0)\n",
            "Requirement already satisfied: multidict<7.0,>=4.5 in /usr/local/lib/python3.11/dist-packages (from aiohttp->torch_geometric) (6.4.3)\n",
            "Requirement already satisfied: propcache>=0.2.0 in /usr/local/lib/python3.11/dist-packages (from aiohttp->torch_geometric) (0.3.1)\n",
            "Requirement already satisfied: yarl<2.0,>=1.17.0 in /usr/local/lib/python3.11/dist-packages (from aiohttp->torch_geometric) (1.20.0)\n",
            "Requirement already satisfied: MarkupSafe>=2.0 in /usr/local/lib/python3.11/dist-packages (from jinja2->torch_geometric) (3.0.2)\n",
            "Requirement already satisfied: charset-normalizer<4,>=2 in /usr/local/lib/python3.11/dist-packages (from requests->torch_geometric) (3.4.1)\n",
            "Requirement already satisfied: idna<4,>=2.5 in /usr/local/lib/python3.11/dist-packages (from requests->torch_geometric) (3.10)\n",
            "Requirement already satisfied: urllib3<3,>=1.21.1 in /usr/local/lib/python3.11/dist-packages (from requests->torch_geometric) (2.4.0)\n",
            "Requirement already satisfied: certifi>=2017.4.17 in /usr/local/lib/python3.11/dist-packages (from requests->torch_geometric) (2025.4.26)\n",
            "Downloading torch_geometric-2.6.1-py3-none-any.whl (1.1 MB)\n",
            "\u001b[2K   \u001b[90m━━━━━━━━━━━━━━━━━━━━━━━━━━━━━━━━━━━━━━━━\u001b[0m \u001b[32m1.1/1.1 MB\u001b[0m \u001b[31m18.1 MB/s\u001b[0m eta \u001b[36m0:00:00\u001b[0m\n",
            "\u001b[?25hInstalling collected packages: torch_geometric\n",
            "Successfully installed torch_geometric-2.6.1\n"
          ]
        }
      ]
    },
    {
      "cell_type": "code",
      "execution_count": 2,
      "metadata": {
        "id": "25kudZ-wluCt"
      },
      "outputs": [],
      "source": [
        "import torch\n",
        "import torch.nn.functional as F\n",
        "import networkx as nx\n",
        "from torch_geometric.nn import GCNConv\n",
        "from torch_geometric.nn import SAGEConv\n",
        "from torch_geometric.transforms import RandomLinkSplit\n",
        "from torch_geometric.utils import negative_sampling\n",
        "from torch.nn import Linear\n",
        "from torch_geometric.datasets import Planetoid\n",
        "\n",
        "\n",
        "from sklearn.metrics import roc_auc_score, average_precision_score\n",
        "import numpy as np\n",
        "from tqdm import tqdm"
      ]
    },
    {
      "cell_type": "code",
      "source": [
        "import matplotlib.pyplot as plt\n",
        "from torch_geometric.utils import from_networkx, to_networkx\n",
        "import pandas as pd"
      ],
      "metadata": {
        "id": "8apQBD-zw-W8"
      },
      "execution_count": 3,
      "outputs": []
    },
    {
      "cell_type": "code",
      "source": [
        "param_grid = {\n",
        "    'hidden_channels': [4, 8, 16, 32, 64, 128, 256, 512],\n",
        "}\n",
        "\n",
        "pyg_cora = Planetoid(root='/tmp/Cora', name='Cora')[0]\n",
        "G_full = nx.Graph()\n",
        "edge_list = pyg_cora.edge_index.t().cpu().numpy()\n",
        "G_full.add_edges_from(edge_list)\n",
        "\n",
        "data = from_networkx(G_full)\n",
        "data.x = torch.eye(data.num_nodes)"
      ],
      "metadata": {
        "id": "ID_DSgZAx58P",
        "colab": {
          "base_uri": "https://localhost:8080/"
        },
        "outputId": "e49ad6cc-3037-4d28-d9de-47bfaecafafb"
      },
      "execution_count": 4,
      "outputs": [
        {
          "output_type": "stream",
          "name": "stderr",
          "text": [
            "Downloading https://github.com/kimiyoung/planetoid/raw/master/data/ind.cora.x\n",
            "Downloading https://github.com/kimiyoung/planetoid/raw/master/data/ind.cora.tx\n",
            "Downloading https://github.com/kimiyoung/planetoid/raw/master/data/ind.cora.allx\n",
            "Downloading https://github.com/kimiyoung/planetoid/raw/master/data/ind.cora.y\n",
            "Downloading https://github.com/kimiyoung/planetoid/raw/master/data/ind.cora.ty\n",
            "Downloading https://github.com/kimiyoung/planetoid/raw/master/data/ind.cora.ally\n",
            "Downloading https://github.com/kimiyoung/planetoid/raw/master/data/ind.cora.graph\n",
            "Downloading https://github.com/kimiyoung/planetoid/raw/master/data/ind.cora.test.index\n",
            "Processing...\n",
            "Done!\n"
          ]
        }
      ]
    },
    {
      "cell_type": "code",
      "source": [
        "class SAGELinkPredictor(torch.nn.Module):\n",
        "    def __init__(self, in_channels, hidden_channels):\n",
        "        super().__init__()\n",
        "        self.conv1 = SAGEConv(in_channels, hidden_channels, aggr = 'mean')\n",
        "        self.conv2 = SAGEConv(hidden_channels, hidden_channels, aggr = 'mean')\n",
        "\n",
        "\n",
        "    def forward(self, x, edge_index):\n",
        "        x = self.conv1(x, edge_index)\n",
        "        x = F.relu(x)\n",
        "        x = self.conv2(x, edge_index)\n",
        "        return x\n",
        "\n",
        "    def decode(self, z, edge_label_index):\n",
        "        return (z[edge_label_index[0]] * z[edge_label_index[1]]).sum(dim=1)"
      ],
      "metadata": {
        "id": "dCEzcIeNyns5"
      },
      "execution_count": 5,
      "outputs": []
    },
    {
      "cell_type": "code",
      "source": [
        "def train(model, optimizer, data):\n",
        "    model.train()\n",
        "    optimizer.zero_grad()\n",
        "    z = model.forward(data.x, data.edge_index)\n",
        "    pred = model.decode(z, data.edge_label_index)\n",
        "    loss = F.binary_cross_entropy_with_logits(pred, data.edge_label)\n",
        "    loss.backward()\n",
        "    optimizer.step()\n",
        "    return loss.item()\n",
        "\n",
        "def test(model, data):\n",
        "    model.eval()\n",
        "    with torch.no_grad():\n",
        "        z = model(data.x, data.edge_index)\n",
        "        pred = model.decode(z, data.edge_label_index).sigmoid().cpu().numpy()\n",
        "    y_true = data.edge_label.cpu().numpy()\n",
        "    auc = roc_auc_score(y_true, pred)\n",
        "    ap = average_precision_score(y_true, pred)\n",
        "    return auc, ap"
      ],
      "metadata": {
        "id": "5ZwRPHE0ys-8"
      },
      "execution_count": 6,
      "outputs": []
    },
    {
      "cell_type": "code",
      "source": [
        "results = []\n",
        "loss_curves = {}\n",
        "\n",
        "for run in range(10):\n",
        "  transform = RandomLinkSplit(is_undirected=True, add_negative_train_samples=True,neg_sampling_ratio=2)\n",
        "  train_data, val_data, test_data = transform(data)\n",
        "\n",
        "  for hidden in param_grid['hidden_channels']:\n",
        "\n",
        "    model = SAGELinkPredictor(data.num_features, hidden)\n",
        "    optimizer = torch.optim.Adam(model.parameters(), lr=0.01)\n",
        "    losses = []\n",
        "    for epoch in range(75):\n",
        "\n",
        "      loss = train(model, optimizer, train_data)\n",
        "      losses.append(loss)\n",
        "\n",
        "    auc, ap = test(model, test_data)\n",
        "    results.append({\n",
        "        'run': run,\n",
        "        'hidden': hidden,\n",
        "        'auc': auc,\n",
        "        'average_precision': ap\n",
        "    })\n",
        "\n",
        "    loss_curves[(run, hidden)] = losses"
      ],
      "metadata": {
        "id": "NWYY2UDoyEZs"
      },
      "execution_count": 7,
      "outputs": []
    },
    {
      "cell_type": "code",
      "source": [
        "df = pd.DataFrame(results)\n",
        "df_res = df.groupby(['hidden'])[['auc', 'average_precision']].mean()\n",
        "print(df.groupby(['hidden'])[['auc', 'average_precision']].mean())"
      ],
      "metadata": {
        "id": "IKhgIpbM2kIX",
        "colab": {
          "base_uri": "https://localhost:8080/"
        },
        "outputId": "f56dfb75-df83-48c1-e031-bd3332b2cf75"
      },
      "execution_count": 8,
      "outputs": [
        {
          "output_type": "stream",
          "name": "stdout",
          "text": [
            "             auc  average_precision\n",
            "hidden                             \n",
            "4       0.586051           0.398327\n",
            "8       0.616387           0.424697\n",
            "16      0.619498           0.421081\n",
            "32      0.625047           0.419562\n",
            "64      0.621373           0.412867\n",
            "128     0.627954           0.420201\n",
            "256     0.620705           0.413955\n",
            "512     0.498986           0.332989\n"
          ]
        }
      ]
    },
    {
      "cell_type": "code",
      "source": [
        "ax = df_res.plot(kind='bar', figsize=(8, 5))\n",
        "plt.title(\"SAGE Performance vs Hidden Size\")\n",
        "plt.xlabel(\"Hidden Size\")\n",
        "plt.ylabel(\"Score\")\n",
        "plt.ylim(0.4, 0.8)\n",
        "\n",
        "plt.legend(title=\"Metric\")\n",
        "plt.tight_layout()\n",
        "plt.show()"
      ],
      "metadata": {
        "id": "g9kImNoL2kdF",
        "colab": {
          "base_uri": "https://localhost:8080/",
          "height": 507
        },
        "outputId": "007de3c6-784f-4292-fd38-36935a0379d2"
      },
      "execution_count": 9,
      "outputs": [
        {
          "output_type": "display_data",
          "data": {
            "text/plain": [
              "<Figure size 800x500 with 1 Axes>"
            ],
            "image/png": "[encoded data removed]"
          },
          "metadata": {}
        }
      ]
    },
    {
      "cell_type": "code",
      "source": [
        "def compute_bonus(u, v, data):\n",
        "  try:\n",
        "      Cu = data.nodes[u].get('community')\n",
        "      Cv = data.nodes[v].get('community')\n",
        "      if Cu == Cv:\n",
        "          return 0\n",
        "\n",
        "      deg_u = data.degree(u)\n",
        "      deg_v = data.degree(v)\n",
        "\n",
        "      nodes_Cu = [n for n in data.nodes if data.nodes[n].get('community') == Cu]\n",
        "      avg_deg_Cu = np.mean([data.degree(n) for n in nodes_Cu]) if nodes_Cu else 0\n",
        "\n",
        "      nodes_Cv = [n for n in data.nodes if data.nodes[n].get('community') == Cv]\n",
        "      avg_deg_Cv = np.mean([data.degree(n) for n in nodes_Cv]) if nodes_Cv else 0\n",
        "\n",
        "      if deg_u < avg_deg_Cu and deg_v > avg_deg_Cv:\n",
        "          return len(list(nx.common_neighbors(data, u, v)))\n",
        "      if deg_v < avg_deg_Cv and deg_u > avg_deg_Cu:\n",
        "          return len(list(nx.common_neighbors(data, u, v)))\n",
        "  except:\n",
        "      return 0\n",
        "  return 0"
      ],
      "metadata": {
        "id": "3i0aO_Eh6gdM"
      },
      "execution_count": 10,
      "outputs": []
    },
    {
      "cell_type": "code",
      "source": [
        "def train_modified(model, optimizer, data, nxGraph, bonus_weight):\n",
        "\n",
        "\n",
        "\n",
        "  model.train()\n",
        "  optimizer.zero_grad()\n",
        "  z = model.forward(data.x, data.edge_index)\n",
        "  pred = model.decode(z, data.edge_label_index)\n",
        "  loss = F.binary_cross_entropy_with_logits(pred, data.edge_label)\n",
        "\n",
        "  pos_edges = data.edge_label_index[:, data.edge_label == 1].T\n",
        "  bonus = 0.0\n",
        "  for u, v in pos_edges.tolist():\n",
        "      bonus += compute_bonus(u, v, nxGraph)\n",
        "\n",
        "  loss = loss - bonus_weight * bonus\n",
        "\n",
        "\n",
        "  loss.backward()\n",
        "  optimizer.step()\n",
        "  return loss.item()\n",
        "\n",
        "def test_modified(model, data):\n",
        "    model.eval()\n",
        "    with torch.no_grad():\n",
        "        z = model(data.x, data.edge_index)\n",
        "        pred = model.decode(z, data.edge_label_index).sigmoid().cpu().numpy()\n",
        "    y_true = data.edge_label.cpu().numpy()\n",
        "    auc = roc_auc_score(y_true, pred)\n",
        "    ap = average_precision_score(y_true, pred)\n",
        "    return auc, ap"
      ],
      "metadata": {
        "id": "Bh82sfLe297M"
      },
      "execution_count": 11,
      "outputs": []
    },
    {
      "cell_type": "code",
      "source": [
        "param_grid = {\n",
        "    'hidden_channels': [8, 32, 64, 128, 256],\n",
        "    'bonus_weight': [0, 0.001, 0.01, 0.1]\n",
        "}\n",
        "\n",
        "pyg_cora = Planetoid(root='/tmp/Cora', name='Cora')[0]\n",
        "G_full = nx.Graph()\n",
        "edge_list = pyg_cora.edge_index.t().cpu().numpy()\n",
        "G_full.add_edges_from(edge_list)\n",
        "\n",
        "data = from_networkx(G_full)\n",
        "data.x = torch.eye(data.num_nodes)"
      ],
      "metadata": {
        "id": "ScNoIJhz44Hj"
      },
      "execution_count": 12,
      "outputs": []
    },
    {
      "cell_type": "code",
      "source": [
        "results = []\n",
        "loss_curves = {}\n",
        "\n",
        "for run in range(10):\n",
        "\n",
        "  transform = RandomLinkSplit(is_undirected=True, add_negative_train_samples=True,neg_sampling_ratio=2)\n",
        "  train_data, val_data, test_data = transform(data)\n",
        "\n",
        "  G_train_nx = to_networkx(train_data, to_undirected=True)\n",
        "  communities = nx.community.louvain_communities(G_train_nx)\n",
        "\n",
        "  # Map nodes to communities\n",
        "  community_map = {}\n",
        "  for i, comm in enumerate(communities):\n",
        "      for node in comm:\n",
        "          community_map[node] = i\n",
        "\n",
        "  # Add community attribute to nodes\n",
        "  for node in G_train_nx.nodes():\n",
        "      G_train_nx.nodes[node]['community'] = community_map.get(node, 0)\n",
        "\n",
        "\n",
        "  for hidden in param_grid['hidden_channels']:\n",
        "    for w in param_grid['bonus_weight']:\n",
        "\n",
        "      model = SAGELinkPredictor(data.num_features, hidden)\n",
        "      optimizer = torch.optim.Adam(model.parameters(), lr=0.01)\n",
        "      losses = []\n",
        "      for epoch in range(75):\n",
        "\n",
        "        loss = train_modified(model, optimizer, train_data,G_train_nx,  w)\n",
        "        losses.append(loss)\n",
        "\n",
        "      auc, ap = test_modified(model, test_data)\n",
        "      results.append({\n",
        "          'run': run,\n",
        "          'hidden': hidden,\n",
        "          'bonus_w': w,\n",
        "          'auc': auc,\n",
        "          'average_precision': ap\n",
        "      })\n",
        "\n",
        "      loss_curves[(run, hidden, w)] = losses"
      ],
      "metadata": {
        "id": "7jMfgFgW4sGH"
      },
      "execution_count": null,
      "outputs": []
    },
    {
      "cell_type": "code",
      "source": [
        "results"
      ],
      "metadata": {
        "collapsed": true,
        "id": "6aMylXGq8uc1"
      },
      "execution_count": null,
      "outputs": []
    },
    {
      "cell_type": "code",
      "source": [
        "df = pd.DataFrame(results)\n",
        "df_res = df.groupby(['hidden', 'bonus_w'])[['auc', 'average_precision']].mean()\n",
        "print(df.groupby(['hidden', 'bonus_w'])[['auc', 'average_precision']].mean())"
      ],
      "metadata": {
        "id": "faQ0uhWW7xAi"
      },
      "execution_count": null,
      "outputs": []
    },
    {
      "cell_type": "code",
      "source": [
        "ax = df_res.plot(kind='bar', figsize=(8, 5))\n",
        "plt.title(\"SAGE Performance vs Hidden Size\")\n",
        "plt.xlabel(\"Hidden Size\")\n",
        "plt.ylabel(\"Score\")\n",
        "plt.ylim(0.4, 0.8)\n",
        "\n",
        "plt.legend(title=\"Metric\")\n",
        "plt.tight_layout()\n",
        "plt.show()"
      ],
      "metadata": {
        "id": "5ylSwHNP9fFb"
      },
      "execution_count": null,
      "outputs": []
    }
  ]
}